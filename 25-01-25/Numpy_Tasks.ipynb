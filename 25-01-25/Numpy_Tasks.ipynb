{
 "cells": [
  {
   "cell_type": "code",
   "execution_count": 1,
   "id": "e43bcbef-555b-4bdb-bdc1-2627adcfd35f",
   "metadata": {},
   "outputs": [],
   "source": [
    "import numpy as np"
   ]
  },
  {
   "cell_type": "code",
   "execution_count": 8,
   "id": "81db8779",
   "metadata": {},
   "outputs": [
    {
     "name": "stdout",
     "output_type": "stream",
     "text": [
      "[10 11 12 13 14 15 16 17 18 19 20 21 22 23 24 25 26 27 28 29 30 31 32 33\n",
      " 34 35 36 37 38 39 40 41 42 43 44 45 46 47 48 49 50] \n",
      "\n",
      "[[0.69316199 0.11010451 0.65839563]\n",
      " [0.9954708  0.52873292 0.27896688]\n",
      " [0.26784034 0.10733983 0.31889234]]\n"
     ]
    }
   ],
   "source": [
    "# 1.\tArray Creation\n",
    "# \t    Create a 1D array of numbers from 10 to 50.\n",
    "#   \tCreate a 3x3 array of random numbers between 0 and 1.\n",
    "ar1 = np.array(range(10,51))\n",
    "print(ar1,'\\n')\n",
    "ar2 = np.random.rand(3, 3)\n",
    "print(ar2)"
   ]
  },
  {
   "cell_type": "code",
   "execution_count": 5,
   "id": "2f99abe0",
   "metadata": {},
   "outputs": [
    {
     "name": "stdout",
     "output_type": "stream",
     "text": [
      "(41,)\n",
      "41\n",
      "int32\n"
     ]
    }
   ],
   "source": [
    "# 2.\tArray Attributes\n",
    "#    \tFind the shape, size, and data type of the array you created in the previous task.\n",
    "print(ar1.shape)\n",
    "print(ar1.size)\n",
    "print(ar1.dtype)"
   ]
  },
  {
   "cell_type": "code",
   "execution_count": 7,
   "id": "e9ee3908",
   "metadata": {},
   "outputs": [
    {
     "name": "stdout",
     "output_type": "stream",
     "text": [
      "[ 6  7  8  9 10] \n",
      "\n",
      "[[24 45  0]\n",
      " [10 24 42]]\n"
     ]
    }
   ],
   "source": [
    "# 3.\tBasic Operations\n",
    "#   \tAdd 5 to every element of a 1D array.\n",
    "#       Multiply two 2D arrays element-wise.\n",
    "ar3 = np.array([1,2,3,4,5])\n",
    "print(ar3+5,\"\\n\")\n",
    "\n",
    "ar4 = np.array([[3,5,7],[5,6,7]])\n",
    "ar5 = np.array([[8,9,0],[2,4,6]])\n",
    "print(ar4*ar5)"
   ]
  },
  {
   "cell_type": "code",
   "execution_count": 17,
   "id": "d1faf65d",
   "metadata": {},
   "outputs": [
    {
     "name": "stdout",
     "output_type": "stream",
     "text": [
      "[[ 1  2  3  4  5]\n",
      " [ 6  7  8  9 10]\n",
      " [11 12 13 14 15]\n",
      " [16 17 18 19 20]\n",
      " [21 22 23 24 25]] \n",
      "\n",
      "[1 2 3 4 5] \n",
      "\n",
      "[ 5 10 15 20 25] \n",
      "\n",
      "[[ 1  2]\n",
      " [ 6  7]\n",
      " [11 12]]\n"
     ]
    }
   ],
   "source": [
    "# 4.\tIndexing and Slicing\n",
    "#   \tCreate a 5x5 array of integers from 1 to 25. Extract:\n",
    "#   \tThe first row.\n",
    "#   \tThe last column.\n",
    "#   \tA subarray of the first three rows and first two columns.\n",
    "ar6 = np.array(range(1,26)).reshape(5,5)\n",
    "print(ar6,'\\n')\n",
    "print(ar6[0,:],'\\n')\n",
    "print(ar6[:,-1],'\\n')\n",
    "print(ar6[:3,:2])"
   ]
  },
  {
   "cell_type": "code",
   "execution_count": 21,
   "id": "56e36e73",
   "metadata": {},
   "outputs": [
    {
     "name": "stdout",
     "output_type": "stream",
     "text": [
      "[94 94 57 87 35 38 89 73 34 85] \n",
      "\n",
      "94 \n",
      "\n",
      "34 \n",
      "\n",
      "68.6 \n",
      "\n",
      "23.938253904577085\n"
     ]
    }
   ],
   "source": [
    "# 5.\tAggregation\n",
    "#   \tCreate a 10-element array of random integers between 1 and 100. Find:\n",
    "#   \tThe maximum value.\n",
    "#   \tThe minimum value.\n",
    "#   \tThe mean and standard deviation.\n",
    "ar7 = np.random.randint(1,101,10)\n",
    "print(ar7,'\\n')\n",
    "print(np.max(ar7),'\\n')\n",
    "print(np.min(ar7),'\\n')\n",
    "print(np.mean(ar7),'\\n')\n",
    "print(np.std(ar7))"
   ]
  },
  {
   "cell_type": "code",
   "execution_count": 22,
   "id": "eb4a47ea",
   "metadata": {},
   "outputs": [
    {
     "name": "stdout",
     "output_type": "stream",
     "text": [
      "[[ 1  2  3  4]\n",
      " [ 5  6  7  8]\n",
      " [ 9 10 11 12]]\n"
     ]
    }
   ],
   "source": [
    "# 6.\tReshaping\n",
    "#   \tConvert a 1D array of numbers from 1 to 12 into a 3x4 matrix.\n",
    "ar8 = np.array(range(1,13)).reshape(3,4)\n",
    "print(ar8)\n"
   ]
  },
  {
   "cell_type": "code",
   "execution_count": 23,
   "id": "b01311a6",
   "metadata": {},
   "outputs": [
    {
     "name": "stdout",
     "output_type": "stream",
     "text": [
      "[[2. 3. 4.]\n",
      " [2. 3. 4.]\n",
      " [2. 3. 4.]]\n"
     ]
    }
   ],
   "source": [
    "# 7.\tBroadcasting\n",
    "#   \tCreate a 3x3 matrix of ones. Add a 1D array [1, 2, 3] to each row.\n",
    "ar9 = np.ones((3,3))\n",
    "ar10 = np.array([1,2,3])\n",
    "res = ar9+ar10\n",
    "print(res)"
   ]
  },
  {
   "cell_type": "code",
   "execution_count": 24,
   "id": "3fec80ae",
   "metadata": {},
   "outputs": [
    {
     "name": "stdout",
     "output_type": "stream",
     "text": [
      "[25 15 15 10]\n"
     ]
    }
   ],
   "source": [
    "# 8.\tFiltering\n",
    "#   \tCreate a 1D array of random integers between 1 and 50. Extract all elements that are divisible by 5.\n",
    "ar11 = np.random.randint(1, 51, 20)\n",
    "res = ar11[ar11 % 5 == 0]\n",
    "print(res)"
   ]
  },
  {
   "cell_type": "code",
   "execution_count": 26,
   "id": "cc295b12",
   "metadata": {},
   "outputs": [
    {
     "name": "stdout",
     "output_type": "stream",
     "text": [
      "[[24 45]\n",
      " [10 28]]\n"
     ]
    }
   ],
   "source": [
    "# 9.\tMatrix Multiplication\n",
    "#   \tCreate two 2x2 matrices and perform matrix multiplication.\n",
    "ar12 = np.array([[3,5],[5,7]])\n",
    "ar13 = np.array([[8,9],[2,4]])\n",
    "print(ar12*ar13)"
   ]
  },
  {
   "cell_type": "code",
   "execution_count": 27,
   "id": "95f511d4",
   "metadata": {},
   "outputs": [
    {
     "name": "stdout",
     "output_type": "stream",
     "text": [
      "[ 1  6 11 16]\n"
     ]
    }
   ],
   "source": [
    "# 10.\tAdvanced Indexing\n",
    "#   \tGiven a 4x4 array, use fancy indexing to extract the diagonal elements.\n",
    "ar14 = np.arange(1, 17).reshape(4, 4)\n",
    "res = ar14[np.arange(4), np.arange(4)]\n",
    "print(res)"
   ]
  }
 ],
 "metadata": {
  "kernelspec": {
   "display_name": "Python 3",
   "language": "python",
   "name": "python3"
  },
  "language_info": {
   "codemirror_mode": {
    "name": "ipython",
    "version": 3
   },
   "file_extension": ".py",
   "mimetype": "text/x-python",
   "name": "python",
   "nbconvert_exporter": "python",
   "pygments_lexer": "ipython3",
   "version": "3.11.5"
  }
 },
 "nbformat": 4,
 "nbformat_minor": 5
}
