{
 "cells": [
  {
   "cell_type": "markdown",
   "id": "941aa511-f9ba-4f8c-85fb-0b776f5b9a03",
   "metadata": {},
   "source": [
    "# **Assignment on Uber dataset**"
   ]
  },
  {
   "cell_type": "markdown",
   "id": "e9ccc14f-4a6d-48b9-9937-b6373ad64145",
   "metadata": {},
   "source": [
    "**Load the dataset**"
   ]
  },
  {
   "cell_type": "code",
   "execution_count": 2,
   "id": "a34ffa5a-50f5-4451-8ed8-e6f44a7419b1",
   "metadata": {},
   "outputs": [
    {
     "name": "stdout",
     "output_type": "stream",
     "text": [
      "           START_DATE*         END_DATE* CATEGORY*            START*  \\\n",
      "0       1/1/2016 21:11    1/1/2016 21:17  Business       Fort Pierce   \n",
      "1        1/2/2016 1:25     1/2/2016 1:37  Business       Fort Pierce   \n",
      "2       1/2/2016 20:25    1/2/2016 20:38  Business       Fort Pierce   \n",
      "3       1/5/2016 17:31    1/5/2016 17:45  Business       Fort Pierce   \n",
      "4       1/6/2016 14:42    1/6/2016 15:49  Business       Fort Pierce   \n",
      "...                ...               ...       ...               ...   \n",
      "1151  12/31/2016 13:24  12/31/2016 13:42  Business           Kar?chi   \n",
      "1152  12/31/2016 15:03  12/31/2016 15:38  Business  Unknown Location   \n",
      "1153  12/31/2016 21:32  12/31/2016 21:50  Business        Katunayake   \n",
      "1154  12/31/2016 22:08  12/31/2016 23:51  Business           Gampaha   \n",
      "1155            Totals               NaN       NaN               NaN   \n",
      "\n",
      "                 STOP*   MILES*         PURPOSE*  \n",
      "0          Fort Pierce      5.1   Meal/Entertain  \n",
      "1          Fort Pierce      5.0              NaN  \n",
      "2          Fort Pierce      4.8  Errand/Supplies  \n",
      "3          Fort Pierce      4.7          Meeting  \n",
      "4      West Palm Beach     63.7   Customer Visit  \n",
      "...                ...      ...              ...  \n",
      "1151  Unknown Location      3.9   Temporary Site  \n",
      "1152  Unknown Location     16.2          Meeting  \n",
      "1153           Gampaha      6.4   Temporary Site  \n",
      "1154         Ilukwatta     48.2   Temporary Site  \n",
      "1155               NaN  12204.7              NaN  \n",
      "\n",
      "[1156 rows x 7 columns]\n"
     ]
    }
   ],
   "source": [
    "import pandas as pd\n",
    "uber_data=pd.read_csv(\"C:/Users/potlu/Downloads/uber.csv\")\n",
    "print(uber_data)"
   ]
  },
  {
   "cell_type": "markdown",
   "id": "a589e8f4-ce40-468d-b563-c873eddf171b",
   "metadata": {},
   "source": [
    "**Display basic info about dataset**"
   ]
  },
  {
   "cell_type": "code",
   "execution_count": null,
   "id": "fe004ecf-d5b4-4f01-817a-56be0681763a",
   "metadata": {},
   "outputs": [
    {
     "name": "stdout",
     "output_type": "stream",
     "text": [
      "<class 'pandas.core.frame.DataFrame'>\n",
      "RangeIndex: 1156 entries, 0 to 1155\n",
      "Data columns (total 7 columns):\n",
      " #   Column       Non-Null Count  Dtype  \n",
      "---  ------       --------------  -----  \n",
      " 0   START_DATE*  1156 non-null   object \n",
      " 1   END_DATE*    1155 non-null   object \n",
      " 2   CATEGORY*    1155 non-null   object \n",
      " 3   START*       1155 non-null   object \n",
      " 4   STOP*        1155 non-null   object \n",
      " 5   MILES*       1156 non-null   float64\n",
      " 6   PURPOSE*     653 non-null    object \n",
      "dtypes: float64(1), object(6)\n",
      "memory usage: 63.3+ KB\n",
      "None\n"
     ]
    }
   ],
   "source": [
    "print(uber_data.info())"
   ]
  },
  {
   "cell_type": "markdown",
   "id": "0dba6eff-7805-45fa-8272-76f9b11fbb0b",
   "metadata": {},
   "source": [
    "**Check for missing values**"
   ]
  },
  {
   "cell_type": "code",
   "execution_count": 3,
   "id": "d9565cc7-c276-422a-883f-cd731ceb163a",
   "metadata": {},
   "outputs": [
    {
     "name": "stdout",
     "output_type": "stream",
     "text": [
      "      START_DATE*  END_DATE*  CATEGORY*  START*  STOP*  MILES*  PURPOSE*\n",
      "0           False      False      False   False  False   False     False\n",
      "1           False      False      False   False  False   False      True\n",
      "2           False      False      False   False  False   False     False\n",
      "3           False      False      False   False  False   False     False\n",
      "4           False      False      False   False  False   False     False\n",
      "...           ...        ...        ...     ...    ...     ...       ...\n",
      "1151        False      False      False   False  False   False     False\n",
      "1152        False      False      False   False  False   False     False\n",
      "1153        False      False      False   False  False   False     False\n",
      "1154        False      False      False   False  False   False     False\n",
      "1155        False       True       True    True   True   False      True\n",
      "\n",
      "[1156 rows x 7 columns]\n"
     ]
    }
   ],
   "source": [
    "print(uber_data.isnull())"
   ]
  },
  {
   "cell_type": "markdown",
   "id": "a58c1ca3-cae2-412a-8bd3-65cac83dcdd2",
   "metadata": {},
   "source": [
    "**Drop rows with missing values**"
   ]
  },
  {
   "cell_type": "code",
   "execution_count": 4,
   "id": "7e610261-c70f-4297-b9be-370881444bc9",
   "metadata": {},
   "outputs": [
    {
     "name": "stdout",
     "output_type": "stream",
     "text": [
      "           START_DATE*         END_DATE* CATEGORY*            START*  \\\n",
      "0       1/1/2016 21:11    1/1/2016 21:17  Business       Fort Pierce   \n",
      "2       1/2/2016 20:25    1/2/2016 20:38  Business       Fort Pierce   \n",
      "3       1/5/2016 17:31    1/5/2016 17:45  Business       Fort Pierce   \n",
      "4       1/6/2016 14:42    1/6/2016 15:49  Business       Fort Pierce   \n",
      "5       1/6/2016 17:15    1/6/2016 17:19  Business   West Palm Beach   \n",
      "...                ...               ...       ...               ...   \n",
      "1150   12/31/2016 1:07   12/31/2016 1:14  Business           Kar?chi   \n",
      "1151  12/31/2016 13:24  12/31/2016 13:42  Business           Kar?chi   \n",
      "1152  12/31/2016 15:03  12/31/2016 15:38  Business  Unknown Location   \n",
      "1153  12/31/2016 21:32  12/31/2016 21:50  Business        Katunayake   \n",
      "1154  12/31/2016 22:08  12/31/2016 23:51  Business           Gampaha   \n",
      "\n",
      "                 STOP*  MILES*         PURPOSE*  \n",
      "0          Fort Pierce     5.1   Meal/Entertain  \n",
      "2          Fort Pierce     4.8  Errand/Supplies  \n",
      "3          Fort Pierce     4.7          Meeting  \n",
      "4      West Palm Beach    63.7   Customer Visit  \n",
      "5      West Palm Beach     4.3   Meal/Entertain  \n",
      "...                ...     ...              ...  \n",
      "1150           Kar?chi     0.7          Meeting  \n",
      "1151  Unknown Location     3.9   Temporary Site  \n",
      "1152  Unknown Location    16.2          Meeting  \n",
      "1153           Gampaha     6.4   Temporary Site  \n",
      "1154         Ilukwatta    48.2   Temporary Site  \n",
      "\n",
      "[653 rows x 7 columns]\n"
     ]
    }
   ],
   "source": [
    "a=uber_data.dropna()\n",
    "print(a)"
   ]
  },
  {
   "cell_type": "markdown",
   "id": "553b0fa2-e237-4f3d-824f-812b15aa79f3",
   "metadata": {},
   "source": [
    "**fill missing values (propose column with unknown value)**"
   ]
  },
  {
   "cell_type": "code",
   "execution_count": 8,
   "id": "1f85afa3-ea43-4ccc-bd45-b7b8e1d7b0b9",
   "metadata": {},
   "outputs": [
    {
     "name": "stdout",
     "output_type": "stream",
     "text": [
      "0        Meal/Entertain\n",
      "1               unknown\n",
      "2       Errand/Supplies\n",
      "3               Meeting\n",
      "4        Customer Visit\n",
      "             ...       \n",
      "1151     Temporary Site\n",
      "1152            Meeting\n",
      "1153     Temporary Site\n",
      "1154     Temporary Site\n",
      "1155            unknown\n",
      "Name: PURPOSE*, Length: 1156, dtype: object\n"
     ]
    }
   ],
   "source": [
    "a=uber_data['PURPOSE*'].fillna('unknown')\n",
    "print(a)"
   ]
  },
  {
   "cell_type": "markdown",
   "id": "2c3f9b9f-8cc4-46d0-bc19-d0986d7895c4",
   "metadata": {},
   "source": [
    "**Check and remove duplicates**"
   ]
  },
  {
   "cell_type": "code",
   "execution_count": 6,
   "id": "94e58632-b9ce-4be0-8f71-5a81b4dd88cd",
   "metadata": {},
   "outputs": [
    {
     "name": "stdout",
     "output_type": "stream",
     "text": [
      "         START_DATE*        END_DATE* CATEGORY*  START* STOP*  MILES* PURPOSE*\n",
      "492  6/28/2016 23:34  6/28/2016 23:59  Business  Durham  Cary     9.9  Meeting\n"
     ]
    }
   ],
   "source": [
    "d=uber_data.duplicated()\n",
    "print(uber_data[d])"
   ]
  },
  {
   "cell_type": "code",
   "execution_count": 10,
   "id": "76215668-c702-461b-872e-83ab303880cb",
   "metadata": {},
   "outputs": [
    {
     "name": "stdout",
     "output_type": "stream",
     "text": [
      "           START_DATE*         END_DATE* CATEGORY*            START*  \\\n",
      "0       1/1/2016 21:11    1/1/2016 21:17  Business       Fort Pierce   \n",
      "1        1/2/2016 1:25     1/2/2016 1:37  Business       Fort Pierce   \n",
      "2       1/2/2016 20:25    1/2/2016 20:38  Business       Fort Pierce   \n",
      "3       1/5/2016 17:31    1/5/2016 17:45  Business       Fort Pierce   \n",
      "4       1/6/2016 14:42    1/6/2016 15:49  Business       Fort Pierce   \n",
      "...                ...               ...       ...               ...   \n",
      "1151  12/31/2016 13:24  12/31/2016 13:42  Business           Kar?chi   \n",
      "1152  12/31/2016 15:03  12/31/2016 15:38  Business  Unknown Location   \n",
      "1153  12/31/2016 21:32  12/31/2016 21:50  Business        Katunayake   \n",
      "1154  12/31/2016 22:08  12/31/2016 23:51  Business           Gampaha   \n",
      "1155            Totals               NaN       NaN               NaN   \n",
      "\n",
      "                 STOP*   MILES*         PURPOSE*  \n",
      "0          Fort Pierce      5.1   Meal/Entertain  \n",
      "1          Fort Pierce      5.0              NaN  \n",
      "2          Fort Pierce      4.8  Errand/Supplies  \n",
      "3          Fort Pierce      4.7          Meeting  \n",
      "4      West Palm Beach     63.7   Customer Visit  \n",
      "...                ...      ...              ...  \n",
      "1151  Unknown Location      3.9   Temporary Site  \n",
      "1152  Unknown Location     16.2          Meeting  \n",
      "1153           Gampaha      6.4   Temporary Site  \n",
      "1154         Ilukwatta     48.2   Temporary Site  \n",
      "1155               NaN  12204.7              NaN  \n",
      "\n",
      "[1155 rows x 7 columns]\n"
     ]
    }
   ],
   "source": [
    "dup=uber_data.drop_duplicates()\n",
    "print(dup)"
   ]
  },
  {
   "cell_type": "markdown",
   "id": "0a27bdb3-ade2-40b0-b06f-8a02ede5980a",
   "metadata": {},
   "source": [
    "**Convert START_DATE and END_DATE to datetime**"
   ]
  },
  {
   "cell_type": "code",
   "execution_count": 14,
   "id": "effc5d74-284f-470d-9784-8ae321a4a774",
   "metadata": {},
   "outputs": [
    {
     "name": "stdout",
     "output_type": "stream",
     "text": [
      "START_DATE*    datetime64[ns]\n",
      "END_DATE*      datetime64[ns]\n",
      "dtype: object\n"
     ]
    }
   ],
   "source": [
    "uber_data['START_DATE*'] = pd.to_datetime(uber_data['START_DATE*'],errors='coerce')\n",
    "uber_data['END_DATE*'] = pd.to_datetime(uber_data['END_DATE*'],errors='coerce')\n",
    "print(uber_data[['START_DATE*', 'END_DATE*']].dtypes)\n",
    "\n"
   ]
  },
  {
   "cell_type": "markdown",
   "id": "95dfc783-1db4-4010-a085-23a653ea83d0",
   "metadata": {},
   "source": [
    "**Total number of rides per category:**"
   ]
  },
  {
   "cell_type": "code",
   "execution_count": 16,
   "id": "e5cba9c3-7988-4d66-9306-5b95131dd111",
   "metadata": {},
   "outputs": [
    {
     "name": "stdout",
     "output_type": "stream",
     "text": [
      "CATEGORY*\n",
      "Business    1078\n",
      "Personal      77\n",
      "dtype: int64\n"
     ]
    }
   ],
   "source": [
    "a=uber_data.groupby('CATEGORY*').size()\n",
    "print(a)"
   ]
  },
  {
   "cell_type": "markdown",
   "id": "df33aac2-ffb5-4ec5-9498-652a0eb957d9",
   "metadata": {},
   "source": [
    "**Total miles traveled for each purpose:**"
   ]
  },
  {
   "cell_type": "code",
   "execution_count": 20,
   "id": "6cea5c61-d84e-4eaf-8fde-23ec8b1f2a2c",
   "metadata": {},
   "outputs": [
    {
     "name": "stdout",
     "output_type": "stream",
     "text": [
      "                 MILES*\n",
      "PURPOSE*               \n",
      "Airport/Travel     16.5\n",
      "Between Offices   197.0\n",
      "Charity ($)        15.1\n",
      "Commute           180.2\n",
      "Customer Visit   2089.5\n",
      "Errand/Supplies   508.0\n",
      "Meal/Entertain    911.7\n",
      "Meeting          2851.3\n",
      "Moving             18.2\n",
      "Temporary Site    523.7\n"
     ]
    }
   ],
   "source": [
    "miles = uber_data.groupby('PURPOSE*')[['MILES*']].sum()\n",
    "print(miles)\n"
   ]
  },
  {
   "cell_type": "markdown",
   "id": "0038c354-db08-44a6-90b4-3c307431960d",
   "metadata": {},
   "source": [
    "**Average distance for business vs. personal rides:**"
   ]
  },
  {
   "cell_type": "code",
   "execution_count": 22,
   "id": "81c4d609-c7fa-44a7-b7f1-29a996a068c8",
   "metadata": {},
   "outputs": [
    {
     "name": "stdout",
     "output_type": "stream",
     "text": [
      "              MILES*\n",
      "CATEGORY*           \n",
      "Business   10.655844\n",
      "Personal    9.320779\n"
     ]
    }
   ],
   "source": [
    "average_miles = uber_data.groupby('CATEGORY*')[['MILES*']].mean()\n",
    "print(average_miles)\n"
   ]
  },
  {
   "cell_type": "markdown",
   "id": "b5ce5c6c-b9ba-4c8f-a371-d3d8ff76ce06",
   "metadata": {},
   "source": [
    "**Add a column for cost estimation (assuming $2 per mile):**"
   ]
  },
  {
   "cell_type": "code",
   "execution_count": 23,
   "id": "d727f17e-f0a9-4168-9a4d-bd0c5b118e11",
   "metadata": {},
   "outputs": [
    {
     "name": "stdout",
     "output_type": "stream",
     "text": [
      "             START_DATE*           END_DATE* CATEGORY*            START*  \\\n",
      "0    2016-01-01 21:11:00 2016-01-01 21:17:00  Business       Fort Pierce   \n",
      "1    2016-01-02 01:25:00 2016-01-02 01:37:00  Business       Fort Pierce   \n",
      "2    2016-01-02 20:25:00 2016-01-02 20:38:00  Business       Fort Pierce   \n",
      "3    2016-01-05 17:31:00 2016-01-05 17:45:00  Business       Fort Pierce   \n",
      "4    2016-01-06 14:42:00 2016-01-06 15:49:00  Business       Fort Pierce   \n",
      "...                  ...                 ...       ...               ...   \n",
      "1151 2016-12-31 13:24:00 2016-12-31 13:42:00  Business           Kar?chi   \n",
      "1152 2016-12-31 15:03:00 2016-12-31 15:38:00  Business  Unknown Location   \n",
      "1153 2016-12-31 21:32:00 2016-12-31 21:50:00  Business        Katunayake   \n",
      "1154 2016-12-31 22:08:00 2016-12-31 23:51:00  Business           Gampaha   \n",
      "1155                 NaT                 NaT       NaN               NaN   \n",
      "\n",
      "                 STOP*   MILES*         PURPOSE*  COST_ESTIMATION  \n",
      "0          Fort Pierce      5.1   Meal/Entertain             10.2  \n",
      "1          Fort Pierce      5.0              NaN             10.0  \n",
      "2          Fort Pierce      4.8  Errand/Supplies              9.6  \n",
      "3          Fort Pierce      4.7          Meeting              9.4  \n",
      "4      West Palm Beach     63.7   Customer Visit            127.4  \n",
      "...                ...      ...              ...              ...  \n",
      "1151  Unknown Location      3.9   Temporary Site              7.8  \n",
      "1152  Unknown Location     16.2          Meeting             32.4  \n",
      "1153           Gampaha      6.4   Temporary Site             12.8  \n",
      "1154         Ilukwatta     48.2   Temporary Site             96.4  \n",
      "1155               NaN  12204.7              NaN          24409.4  \n",
      "\n",
      "[1156 rows x 8 columns]\n"
     ]
    }
   ],
   "source": [
    "uber_data['COST_ESTIMATION'] = uber_data['MILES*'] * 2\n",
    "print(uber_data)\n"
   ]
  },
  {
   "cell_type": "markdown",
   "id": "8e7c7766-dc43-43bf-bf95-bd52e37b1657",
   "metadata": {},
   "source": [
    "**Filter rides longer than 50 miles:**"
   ]
  },
  {
   "cell_type": "code",
   "execution_count": 25,
   "id": "f1452c30-ba23-4153-b83c-efefa820123d",
   "metadata": {},
   "outputs": [
    {
     "name": "stdout",
     "output_type": "stream",
     "text": [
      "             START_DATE*           END_DATE* CATEGORY*            START*  \\\n",
      "4    2016-01-06 14:42:00 2016-01-06 15:49:00  Business       Fort Pierce   \n",
      "232  2016-03-17 12:52:00 2016-03-17 15:11:00  Business            Austin   \n",
      "251  2016-03-19 19:33:00 2016-03-19 20:39:00  Business         Galveston   \n",
      "268  2016-03-25 13:24:00 2016-03-25 16:22:00  Business              Cary   \n",
      "269  2016-03-25 16:52:00 2016-03-25 22:22:00  Business             Latta   \n",
      "270  2016-03-25 22:54:00 2016-03-26 01:39:00  Business      Jacksonville   \n",
      "295  2016-04-02 12:21:00 2016-04-02 14:47:00  Business         Kissimmee   \n",
      "296  2016-04-02 16:57:00 2016-04-02 18:09:00  Business     Daytona Beach   \n",
      "297  2016-04-02 19:38:00 2016-04-02 22:36:00  Business      Jacksonville   \n",
      "298  2016-04-02 23:11:00 2016-04-03 01:34:00  Business         Ridgeland   \n",
      "299  2016-04-03 02:00:00 2016-04-03 04:16:00  Business          Florence   \n",
      "546  2016-07-14 16:39:00 2016-07-14 20:05:00  Business       Morrisville   \n",
      "559  2016-07-17 12:20:00 2016-07-17 15:25:00  Personal             Boone   \n",
      "707  2016-08-24 13:01:00 2016-08-24 15:25:00  Business  Unknown Location   \n",
      "710  2016-08-25 17:19:00 2016-08-25 19:20:00  Business  Unknown Location   \n",
      "726  2016-08-27 14:01:00 2016-08-27 15:44:00  Business            Lahore   \n",
      "727  2016-08-27 16:15:00 2016-08-27 19:13:00  Business  Unknown Location   \n",
      "751  2016-09-06 17:49:00 2016-09-06 17:49:00  Business  Unknown Location   \n",
      "776  2016-09-27 21:01:00 2016-09-28 02:37:00  Business  Unknown Location   \n",
      "788  2016-10-06 17:23:00 2016-10-06 17:40:00  Business        R?walpindi   \n",
      "869  2016-10-28 15:53:00 2016-10-28 17:59:00  Business              Cary   \n",
      "870  2016-10-28 18:13:00 2016-10-28 20:07:00  Business     Winston Salem   \n",
      "871  2016-10-28 20:13:00 2016-10-28 22:00:00  Business         Asheville   \n",
      "873  2016-10-29 17:13:00 2016-10-29 19:19:00  Business        Hayesville   \n",
      "880  2016-10-30 13:24:00 2016-10-30 14:37:00  Business       Bryson City   \n",
      "881  2016-10-30 15:22:00 2016-10-30 18:23:00  Business         Asheville   \n",
      "1088 2016-12-21 20:56:00 2016-12-21 23:42:00  Business        Rawalpindi   \n",
      "1155                 NaT                 NaT       NaN               NaN   \n",
      "\n",
      "                 STOP*   MILES*        PURPOSE*  COST_ESTIMATION  \n",
      "4      West Palm Beach     63.7  Customer Visit            127.4  \n",
      "232               Katy    136.0  Customer Visit            272.0  \n",
      "251            Houston     57.0  Customer Visit            114.0  \n",
      "268              Latta    144.0  Customer Visit            288.0  \n",
      "269       Jacksonville    310.3  Customer Visit            620.6  \n",
      "270          Kissimmee    201.0         Meeting            402.0  \n",
      "295      Daytona Beach     77.3  Customer Visit            154.6  \n",
      "296       Jacksonville     80.5  Customer Visit            161.0  \n",
      "297          Ridgeland    174.2  Customer Visit            348.4  \n",
      "298           Florence    144.0         Meeting            288.0  \n",
      "299               Cary    159.3         Meeting            318.6  \n",
      "546         Banner Elk    195.3             NaN            390.6  \n",
      "559               Cary    180.2         Commute            360.4  \n",
      "707   Unknown Location     96.2             NaN            192.4  \n",
      "710   Unknown Location     50.4             NaN            100.8  \n",
      "726   Unknown Location     86.6             NaN            173.2  \n",
      "727   Unknown Location    156.9             NaN            313.8  \n",
      "751   Unknown Location     69.1             NaN            138.2  \n",
      "776   Unknown Location    195.6             NaN            391.2  \n",
      "788   Unknown Location    112.6             NaN            225.2  \n",
      "869      Winston Salem    107.0         Meeting            214.0  \n",
      "870          Asheville    133.6         Meeting            267.2  \n",
      "871             Topton     91.8         Meeting            183.6  \n",
      "873             Topton     75.7             NaN            151.4  \n",
      "880          Asheville     68.4             NaN            136.8  \n",
      "881             Mebane    195.9             NaN            391.8  \n",
      "1088  Unknown Location    103.0         Meeting            206.0  \n",
      "1155               NaN  12204.7             NaN          24409.4  \n"
     ]
    }
   ],
   "source": [
    "m=uber_data[(uber_data['MILES*']>50)]\n",
    "print(m)"
   ]
  },
  {
   "cell_type": "markdown",
   "id": "3fdffe93-a65e-4407-bd5b-daa9d20c6708",
   "metadata": {},
   "source": [
    "**Filter by specific purpose (e.g., meetings):**"
   ]
  },
  {
   "cell_type": "code",
   "execution_count": 27,
   "id": "f9f9ee23-b44d-4a9e-bcf9-f5c34c8a990e",
   "metadata": {},
   "outputs": [
    {
     "name": "stdout",
     "output_type": "stream",
     "text": [
      "             START_DATE*           END_DATE* CATEGORY*            START*  \\\n",
      "3    2016-01-05 17:31:00 2016-01-05 17:45:00  Business       Fort Pierce   \n",
      "6    2016-01-06 17:30:00 2016-01-06 17:35:00  Business   West Palm Beach   \n",
      "7    2016-01-07 13:27:00 2016-01-07 13:33:00  Business              Cary   \n",
      "8    2016-01-10 08:05:00 2016-01-10 08:25:00  Business              Cary   \n",
      "10   2016-01-10 15:08:00 2016-01-10 15:51:00  Business          New York   \n",
      "...                  ...                 ...       ...               ...   \n",
      "1142 2016-12-29 20:15:00 2016-12-29 20:45:00  Business           Kar?chi   \n",
      "1144 2016-12-29 23:14:00 2016-12-29 23:47:00  Business  Unknown Location   \n",
      "1148 2016-12-30 16:45:00 2016-12-30 17:08:00  Business           Kar?chi   \n",
      "1150 2016-12-31 01:07:00 2016-12-31 01:14:00  Business           Kar?chi   \n",
      "1152 2016-12-31 15:03:00 2016-12-31 15:38:00  Business  Unknown Location   \n",
      "\n",
      "                 STOP*  MILES* PURPOSE*  COST_ESTIMATION  \n",
      "3          Fort Pierce     4.7  Meeting              9.4  \n",
      "6           Palm Beach     7.1  Meeting             14.2  \n",
      "7                 Cary     0.8  Meeting              1.6  \n",
      "8          Morrisville     8.3  Meeting             16.6  \n",
      "10              Queens    10.8  Meeting             21.6  \n",
      "...                ...     ...      ...              ...  \n",
      "1142           Kar?chi     7.2  Meeting             14.4  \n",
      "1144           Kar?chi    12.9  Meeting             25.8  \n",
      "1148           Kar?chi     4.6  Meeting              9.2  \n",
      "1150           Kar?chi     0.7  Meeting              1.4  \n",
      "1152  Unknown Location    16.2  Meeting             32.4  \n",
      "\n",
      "[187 rows x 8 columns]\n"
     ]
    }
   ],
   "source": [
    "m=uber_data[(uber_data['PURPOSE*']=='Meeting')]\n",
    "print(m)"
   ]
  },
  {
   "cell_type": "markdown",
   "id": "82ee3d4d-523b-4a28-a9c1-28149eb65a29",
   "metadata": {},
   "source": [
    "**What is the total number of business trips versus personal trips?**"
   ]
  },
  {
   "cell_type": "code",
   "execution_count": 26,
   "id": "9cb8d272-ecb0-4b42-84b8-32577bbf635c",
   "metadata": {},
   "outputs": [
    {
     "name": "stdout",
     "output_type": "stream",
     "text": [
      "CATEGORY*\n",
      "Business    1078\n",
      "Personal      77\n",
      "Name: count, dtype: int64\n"
     ]
    }
   ],
   "source": [
    "count=uber_data['CATEGORY*'].value_counts()\n",
    "print(count)"
   ]
  },
  {
   "cell_type": "markdown",
   "id": "4b246fa1-cd11-46f7-bf7d-bd287536cf7c",
   "metadata": {},
   "source": [
    "**What percentage of trips are business versus personal?**"
   ]
  },
  {
   "cell_type": "code",
   "execution_count": 29,
   "id": "4a2e19b9-5584-4c45-9d9e-642cf1aefabb",
   "metadata": {},
   "outputs": [
    {
     "name": "stdout",
     "output_type": "stream",
     "text": [
      "CATEGORY*\n",
      "Business    93.252595\n",
      "Personal     6.660900\n",
      "Name: count, dtype: float64\n"
     ]
    }
   ],
   "source": [
    "trip_counts=uber_data['CATEGORY*'].value_counts()\n",
    "total_trips=len(uber_data)\n",
    "business_percentage=(trip_counts/total_trips)*100\n",
    "print(business_percentage)"
   ]
  },
  {
   "cell_type": "code",
   "execution_count": 32,
   "id": "3ba9ff0a-473c-4b84-ae42-fb74b3363d93",
   "metadata": {},
   "outputs": [
    {
     "data": {
      "text/html": [
       "<div>\n",
       "<style scoped>\n",
       "    .dataframe tbody tr th:only-of-type {\n",
       "        vertical-align: middle;\n",
       "    }\n",
       "\n",
       "    .dataframe tbody tr th {\n",
       "        vertical-align: top;\n",
       "    }\n",
       "\n",
       "    .dataframe thead th {\n",
       "        text-align: right;\n",
       "    }\n",
       "</style>\n",
       "<table border=\"1\" class=\"dataframe\">\n",
       "  <thead>\n",
       "    <tr style=\"text-align: right;\">\n",
       "      <th></th>\n",
       "      <th>START_DATE*</th>\n",
       "      <th>END_DATE*</th>\n",
       "      <th>CATEGORY*</th>\n",
       "      <th>START*</th>\n",
       "      <th>STOP*</th>\n",
       "      <th>MILES*</th>\n",
       "      <th>PURPOSE*</th>\n",
       "      <th>COST_ESTIMATION</th>\n",
       "      <th>MILES_CAT</th>\n",
       "    </tr>\n",
       "  </thead>\n",
       "  <tbody>\n",
       "    <tr>\n",
       "      <th>0</th>\n",
       "      <td>2016-01-01 21:11:00</td>\n",
       "      <td>2016-01-01 21:17:00</td>\n",
       "      <td>Business</td>\n",
       "      <td>Fort Pierce</td>\n",
       "      <td>Fort Pierce</td>\n",
       "      <td>5.1</td>\n",
       "      <td>Meal/Entertain</td>\n",
       "      <td>10.2</td>\n",
       "      <td>short trip</td>\n",
       "    </tr>\n",
       "    <tr>\n",
       "      <th>1</th>\n",
       "      <td>2016-01-02 01:25:00</td>\n",
       "      <td>2016-01-02 01:37:00</td>\n",
       "      <td>Business</td>\n",
       "      <td>Fort Pierce</td>\n",
       "      <td>Fort Pierce</td>\n",
       "      <td>5.0</td>\n",
       "      <td>NaN</td>\n",
       "      <td>10.0</td>\n",
       "      <td>short trip</td>\n",
       "    </tr>\n",
       "    <tr>\n",
       "      <th>2</th>\n",
       "      <td>2016-01-02 20:25:00</td>\n",
       "      <td>2016-01-02 20:38:00</td>\n",
       "      <td>Business</td>\n",
       "      <td>Fort Pierce</td>\n",
       "      <td>Fort Pierce</td>\n",
       "      <td>4.8</td>\n",
       "      <td>Errand/Supplies</td>\n",
       "      <td>9.6</td>\n",
       "      <td>short trip</td>\n",
       "    </tr>\n",
       "    <tr>\n",
       "      <th>3</th>\n",
       "      <td>2016-01-05 17:31:00</td>\n",
       "      <td>2016-01-05 17:45:00</td>\n",
       "      <td>Business</td>\n",
       "      <td>Fort Pierce</td>\n",
       "      <td>Fort Pierce</td>\n",
       "      <td>4.7</td>\n",
       "      <td>Meeting</td>\n",
       "      <td>9.4</td>\n",
       "      <td>short trip</td>\n",
       "    </tr>\n",
       "    <tr>\n",
       "      <th>4</th>\n",
       "      <td>2016-01-06 14:42:00</td>\n",
       "      <td>2016-01-06 15:49:00</td>\n",
       "      <td>Business</td>\n",
       "      <td>Fort Pierce</td>\n",
       "      <td>West Palm Beach</td>\n",
       "      <td>63.7</td>\n",
       "      <td>Customer Visit</td>\n",
       "      <td>127.4</td>\n",
       "      <td>short trip</td>\n",
       "    </tr>\n",
       "  </tbody>\n",
       "</table>\n",
       "</div>"
      ],
      "text/plain": [
       "          START_DATE*           END_DATE* CATEGORY*       START*  \\\n",
       "0 2016-01-01 21:11:00 2016-01-01 21:17:00  Business  Fort Pierce   \n",
       "1 2016-01-02 01:25:00 2016-01-02 01:37:00  Business  Fort Pierce   \n",
       "2 2016-01-02 20:25:00 2016-01-02 20:38:00  Business  Fort Pierce   \n",
       "3 2016-01-05 17:31:00 2016-01-05 17:45:00  Business  Fort Pierce   \n",
       "4 2016-01-06 14:42:00 2016-01-06 15:49:00  Business  Fort Pierce   \n",
       "\n",
       "             STOP*  MILES*         PURPOSE*  COST_ESTIMATION   MILES_CAT  \n",
       "0      Fort Pierce     5.1   Meal/Entertain             10.2  short trip  \n",
       "1      Fort Pierce     5.0              NaN             10.0  short trip  \n",
       "2      Fort Pierce     4.8  Errand/Supplies              9.6  short trip  \n",
       "3      Fort Pierce     4.7          Meeting              9.4  short trip  \n",
       "4  West Palm Beach    63.7   Customer Visit            127.4  short trip  "
      ]
     },
     "execution_count": 32,
     "metadata": {},
     "output_type": "execute_result"
    }
   ],
   "source": [
    "import numpy as np\n",
    "uber_data[\"MILES_CAT\"]=np.where(uber_data['MILES*']>100,\"Long trip\",\"short trip\")\n",
    "uber_data.head()"
   ]
  },
  {
   "cell_type": "code",
   "execution_count": 34,
   "id": "ec86d5f0",
   "metadata": {},
   "outputs": [
    {
     "data": {
      "text/html": [
       "<div>\n",
       "<style scoped>\n",
       "    .dataframe tbody tr th:only-of-type {\n",
       "        vertical-align: middle;\n",
       "    }\n",
       "\n",
       "    .dataframe tbody tr th {\n",
       "        vertical-align: top;\n",
       "    }\n",
       "\n",
       "    .dataframe thead th {\n",
       "        text-align: right;\n",
       "    }\n",
       "</style>\n",
       "<table border=\"1\" class=\"dataframe\">\n",
       "  <thead>\n",
       "    <tr style=\"text-align: right;\">\n",
       "      <th></th>\n",
       "      <th>START_DATE*</th>\n",
       "      <th>END_DATE*</th>\n",
       "      <th>CATEGORY*</th>\n",
       "      <th>START*</th>\n",
       "      <th>STOP*</th>\n",
       "      <th>MILES*</th>\n",
       "      <th>PURPOSE*</th>\n",
       "      <th>COST_ESTIMATION</th>\n",
       "      <th>MILES_CAT</th>\n",
       "      <th>Trip</th>\n",
       "    </tr>\n",
       "  </thead>\n",
       "  <tbody>\n",
       "    <tr>\n",
       "      <th>0</th>\n",
       "      <td>2016-01-01 21:11:00</td>\n",
       "      <td>2016-01-01 21:17:00</td>\n",
       "      <td>Business</td>\n",
       "      <td>Fort Pierce</td>\n",
       "      <td>Fort Pierce</td>\n",
       "      <td>5.1</td>\n",
       "      <td>Meal/Entertain</td>\n",
       "      <td>10.2</td>\n",
       "      <td>short trip</td>\n",
       "      <td>short trip</td>\n",
       "    </tr>\n",
       "    <tr>\n",
       "      <th>1</th>\n",
       "      <td>2016-01-02 01:25:00</td>\n",
       "      <td>2016-01-02 01:37:00</td>\n",
       "      <td>Business</td>\n",
       "      <td>Fort Pierce</td>\n",
       "      <td>Fort Pierce</td>\n",
       "      <td>5.0</td>\n",
       "      <td>NaN</td>\n",
       "      <td>10.0</td>\n",
       "      <td>short trip</td>\n",
       "      <td>short trip</td>\n",
       "    </tr>\n",
       "    <tr>\n",
       "      <th>2</th>\n",
       "      <td>2016-01-02 20:25:00</td>\n",
       "      <td>2016-01-02 20:38:00</td>\n",
       "      <td>Business</td>\n",
       "      <td>Fort Pierce</td>\n",
       "      <td>Fort Pierce</td>\n",
       "      <td>4.8</td>\n",
       "      <td>Errand/Supplies</td>\n",
       "      <td>9.6</td>\n",
       "      <td>short trip</td>\n",
       "      <td>short trip</td>\n",
       "    </tr>\n",
       "    <tr>\n",
       "      <th>3</th>\n",
       "      <td>2016-01-05 17:31:00</td>\n",
       "      <td>2016-01-05 17:45:00</td>\n",
       "      <td>Business</td>\n",
       "      <td>Fort Pierce</td>\n",
       "      <td>Fort Pierce</td>\n",
       "      <td>4.7</td>\n",
       "      <td>Meeting</td>\n",
       "      <td>9.4</td>\n",
       "      <td>short trip</td>\n",
       "      <td>short trip</td>\n",
       "    </tr>\n",
       "    <tr>\n",
       "      <th>4</th>\n",
       "      <td>2016-01-06 14:42:00</td>\n",
       "      <td>2016-01-06 15:49:00</td>\n",
       "      <td>Business</td>\n",
       "      <td>Fort Pierce</td>\n",
       "      <td>West Palm Beach</td>\n",
       "      <td>63.7</td>\n",
       "      <td>Customer Visit</td>\n",
       "      <td>127.4</td>\n",
       "      <td>short trip</td>\n",
       "      <td>short trip</td>\n",
       "    </tr>\n",
       "  </tbody>\n",
       "</table>\n",
       "</div>"
      ],
      "text/plain": [
       "          START_DATE*           END_DATE* CATEGORY*       START*  \\\n",
       "0 2016-01-01 21:11:00 2016-01-01 21:17:00  Business  Fort Pierce   \n",
       "1 2016-01-02 01:25:00 2016-01-02 01:37:00  Business  Fort Pierce   \n",
       "2 2016-01-02 20:25:00 2016-01-02 20:38:00  Business  Fort Pierce   \n",
       "3 2016-01-05 17:31:00 2016-01-05 17:45:00  Business  Fort Pierce   \n",
       "4 2016-01-06 14:42:00 2016-01-06 15:49:00  Business  Fort Pierce   \n",
       "\n",
       "             STOP*  MILES*         PURPOSE*  COST_ESTIMATION   MILES_CAT  \\\n",
       "0      Fort Pierce     5.1   Meal/Entertain             10.2  short trip   \n",
       "1      Fort Pierce     5.0              NaN             10.0  short trip   \n",
       "2      Fort Pierce     4.8  Errand/Supplies              9.6  short trip   \n",
       "3      Fort Pierce     4.7          Meeting              9.4  short trip   \n",
       "4  West Palm Beach    63.7   Customer Visit            127.4  short trip   \n",
       "\n",
       "         Trip  \n",
       "0  short trip  \n",
       "1  short trip  \n",
       "2  short trip  \n",
       "3  short trip  \n",
       "4  short trip  "
      ]
     },
     "execution_count": 34,
     "metadata": {},
     "output_type": "execute_result"
    }
   ],
   "source": [
    "uber_data['Trip']=np.where(uber_data['MILES*']<=100,'short trip',np.where(uber_data['MILES*']<=200,'medium trip','long trip'))\n",
    "uber_data.head()"
   ]
  },
  {
   "cell_type": "code",
   "execution_count": 36,
   "id": "8aba4fc7",
   "metadata": {},
   "outputs": [],
   "source": [
    "conditions=[(uber_data['MILES*']>100),\n",
    "           (uber_data['MILES*']>50) & (uber_data['MILES*']<=100),(uber_data['MILES*']<=50)]\n",
    "categories=[\"Long trip\",\"Medium trip\",\"Short trip\"]\n",
    "uber_data[\"MILES_CAT1\"]=np.select(conditions,categories,default=\"Unknown\")"
   ]
  },
  {
   "cell_type": "code",
   "execution_count": 37,
   "id": "e4cd70f6",
   "metadata": {},
   "outputs": [
    {
     "name": "stdout",
     "output_type": "stream",
     "text": [
      "             START_DATE*           END_DATE* CATEGORY*            START*  \\\n",
      "0    2016-01-01 21:11:00 2016-01-01 21:17:00  Business       Fort Pierce   \n",
      "1    2016-01-02 01:25:00 2016-01-02 01:37:00  Business       Fort Pierce   \n",
      "2    2016-01-02 20:25:00 2016-01-02 20:38:00  Business       Fort Pierce   \n",
      "3    2016-01-05 17:31:00 2016-01-05 17:45:00  Business       Fort Pierce   \n",
      "4    2016-01-06 14:42:00 2016-01-06 15:49:00  Business       Fort Pierce   \n",
      "...                  ...                 ...       ...               ...   \n",
      "1151 2016-12-31 13:24:00 2016-12-31 13:42:00  Business           Kar?chi   \n",
      "1152 2016-12-31 15:03:00 2016-12-31 15:38:00  Business  Unknown Location   \n",
      "1153 2016-12-31 21:32:00 2016-12-31 21:50:00  Business        Katunayake   \n",
      "1154 2016-12-31 22:08:00 2016-12-31 23:51:00  Business           Gampaha   \n",
      "1155                 NaT                 NaT       NaN               NaN   \n",
      "\n",
      "                 STOP*   MILES*         PURPOSE*  COST_ESTIMATION   MILES_CAT  \\\n",
      "0          Fort Pierce      5.1   Meal/Entertain             10.2  short trip   \n",
      "1          Fort Pierce      5.0              NaN             10.0  short trip   \n",
      "2          Fort Pierce      4.8  Errand/Supplies              9.6  short trip   \n",
      "3          Fort Pierce      4.7          Meeting              9.4  short trip   \n",
      "4      West Palm Beach     63.7   Customer Visit            127.4  short trip   \n",
      "...                ...      ...              ...              ...         ...   \n",
      "1151  Unknown Location      3.9   Temporary Site              7.8  short trip   \n",
      "1152  Unknown Location     16.2          Meeting             32.4  short trip   \n",
      "1153           Gampaha      6.4   Temporary Site             12.8  short trip   \n",
      "1154         Ilukwatta     48.2   Temporary Site             96.4  short trip   \n",
      "1155               NaN  12204.7              NaN          24409.4   Long trip   \n",
      "\n",
      "            Trip   MILES_CAT1  \n",
      "0     short trip   Short trip  \n",
      "1     short trip   Short trip  \n",
      "2     short trip   Short trip  \n",
      "3     short trip   Short trip  \n",
      "4     short trip  Medium trip  \n",
      "...          ...          ...  \n",
      "1151  short trip   Short trip  \n",
      "1152  short trip   Short trip  \n",
      "1153  short trip   Short trip  \n",
      "1154  short trip   Short trip  \n",
      "1155   long trip    Long trip  \n",
      "\n",
      "[1156 rows x 11 columns]\n"
     ]
    }
   ],
   "source": [
    "print(uber_data)"
   ]
  },
  {
   "cell_type": "code",
   "execution_count": 38,
   "id": "0ec75012",
   "metadata": {},
   "outputs": [
    {
     "name": "stdout",
     "output_type": "stream",
     "text": [
      "Trip\n",
      "short trip     1139\n",
      "medium trip      14\n",
      "long trip         3\n",
      "Name: count, dtype: int64\n"
     ]
    }
   ],
   "source": [
    "a=uber_data['Trip'].value_counts()\n",
    "print(a)"
   ]
  },
  {
   "cell_type": "code",
   "execution_count": 39,
   "id": "91782f38",
   "metadata": {},
   "outputs": [
    {
     "data": {
      "text/plain": [
       "START*\n",
       "Agnew                2.775000\n",
       "Almond              15.200000\n",
       "Apex                 5.341176\n",
       "Arabi               17.000000\n",
       "Arlington            4.900000\n",
       "                      ...    \n",
       "West University      2.200000\n",
       "Weston               4.000000\n",
       "Westpark Place       2.182353\n",
       "Whitebridge          4.020588\n",
       "Winston Salem      133.600000\n",
       "Name: MILES*, Length: 177, dtype: float64"
      ]
     },
     "execution_count": 39,
     "metadata": {},
     "output_type": "execute_result"
    }
   ],
   "source": [
    "uber_data.groupby('START*')['MILES*'].agg('mean')"
   ]
  },
  {
   "cell_type": "code",
   "execution_count": 43,
   "id": "d6f92937",
   "metadata": {},
   "outputs": [
    {
     "data": {
      "text/html": [
       "<div>\n",
       "<style scoped>\n",
       "    .dataframe tbody tr th:only-of-type {\n",
       "        vertical-align: middle;\n",
       "    }\n",
       "\n",
       "    .dataframe tbody tr th {\n",
       "        vertical-align: top;\n",
       "    }\n",
       "\n",
       "    .dataframe thead th {\n",
       "        text-align: right;\n",
       "    }\n",
       "</style>\n",
       "<table border=\"1\" class=\"dataframe\">\n",
       "  <thead>\n",
       "    <tr style=\"text-align: right;\">\n",
       "      <th></th>\n",
       "      <th>sum</th>\n",
       "      <th>mean</th>\n",
       "      <th>max</th>\n",
       "    </tr>\n",
       "    <tr>\n",
       "      <th>CATEGORY*</th>\n",
       "      <th></th>\n",
       "      <th></th>\n",
       "      <th></th>\n",
       "    </tr>\n",
       "  </thead>\n",
       "  <tbody>\n",
       "    <tr>\n",
       "      <th>Business</th>\n",
       "      <td>11487.0</td>\n",
       "      <td>10.655844</td>\n",
       "      <td>310.3</td>\n",
       "    </tr>\n",
       "    <tr>\n",
       "      <th>Personal</th>\n",
       "      <td>717.7</td>\n",
       "      <td>9.320779</td>\n",
       "      <td>180.2</td>\n",
       "    </tr>\n",
       "  </tbody>\n",
       "</table>\n",
       "</div>"
      ],
      "text/plain": [
       "               sum       mean    max\n",
       "CATEGORY*                           \n",
       "Business   11487.0  10.655844  310.3\n",
       "Personal     717.7   9.320779  180.2"
      ]
     },
     "execution_count": 43,
     "metadata": {},
     "output_type": "execute_result"
    }
   ],
   "source": [
    "uber_data.groupby('CATEGORY*')['MILES*'].agg(['sum','mean','max'])"
   ]
  },
  {
   "cell_type": "code",
   "execution_count": 41,
   "id": "b1834405",
   "metadata": {},
   "outputs": [
    {
     "data": {
      "text/plain": [
       "PURPOSE*\n",
       "Airport/Travel       5.500000\n",
       "Between Offices     10.944444\n",
       "Charity ($)         15.100000\n",
       "Commute            180.200000\n",
       "Customer Visit      20.688119\n",
       "Errand/Supplies      3.968750\n",
       "Meal/Entertain       5.698125\n",
       "Meeting             15.247594\n",
       "Moving               4.550000\n",
       "Temporary Site      10.474000\n",
       "Name: MILES*, dtype: float64"
      ]
     },
     "execution_count": 41,
     "metadata": {},
     "output_type": "execute_result"
    }
   ],
   "source": [
    "uber_data.groupby('PURPOSE*')['MILES*'].agg('mean')"
   ]
  }
 ],
 "metadata": {
  "kernelspec": {
   "display_name": "Python 3",
   "language": "python",
   "name": "python3"
  },
  "language_info": {
   "codemirror_mode": {
    "name": "ipython",
    "version": 3
   },
   "file_extension": ".py",
   "mimetype": "text/x-python",
   "name": "python",
   "nbconvert_exporter": "python",
   "pygments_lexer": "ipython3",
   "version": "3.11.5"
  }
 },
 "nbformat": 4,
 "nbformat_minor": 5
}
